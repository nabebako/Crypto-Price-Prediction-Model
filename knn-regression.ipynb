{
 "cells": [
  {
   "cell_type": "markdown",
   "metadata": {},
   "source": [
    "<h2>Knn Regression</H2>"
   ]
  },
  {
   "cell_type": "code",
   "execution_count": 2,
   "metadata": {},
   "outputs": [],
   "source": [
    "import numpy as np\n",
    "import pandas as pd\n",
    "import math as ma\n",
    "import matplotlib.pyplot as plt"
   ]
  },
  {
   "cell_type": "markdown",
   "metadata": {},
   "source": [
    "<h3>Defining helper functions</h3>"
   ]
  },
  {
   "cell_type": "code",
   "execution_count": 3,
   "metadata": {},
   "outputs": [],
   "source": [
    "def get_csv(path: str) -> pd.DataFrame:\n",
    "    \n",
    "    df = pd.read_csv(path, parse_dates = ['Date'])\\\n",
    "        .drop(columns = ['Currency', '24h Open (USD)'])\\\n",
    "        .rename(columns = {'Date': 'date', 'Closing Price (USD)': 'price', '24h High (USD)': 'high', '24h Low (USD)': 'low'})\n",
    "\n",
    "    return df\n",
    "\n",
    "\n",
    "def rolling_forecast(df: pd.DataFrame, test_ratio: float = 0.3) -> pd.DataFrame:\n",
    "\n",
    "    prediction_roll = pd.Series(dtype = 'float64')\n",
    "    test_data = df[ma.floor(len(df.index) * (1 - test_ratio)) + 1:]\n",
    "\n",
    "    for end_date in test_data.index:\n",
    "        train_data = df[:end_date - 1]\n",
    "        # TODO: define knn-regression model\n",
    "        pred = pd.mean(train_data)\n",
    "        prediction_roll.loc[end_date] = pred\n",
    "\n",
    "    return pd.DataFrame({'pred': prediction_roll, 'real': test_data['price']})"
   ]
  },
  {
   "cell_type": "markdown",
   "metadata": {},
   "source": [
    "<h3>Importing data</h3>"
   ]
  },
  {
   "cell_type": "code",
   "execution_count": 4,
   "metadata": {},
   "outputs": [],
   "source": [
    "df_ada = get_csv('./data/Cardano.csv')\n",
    "df_eth = get_csv('./data/ethereum.csv')\n",
    "df_sol = get_csv('./data/solana.csv')\n",
    "df_doge = get_csv('./data/dogecoin.csv')"
   ]
  }
 ],
 "metadata": {
  "interpreter": {
   "hash": "c9a0a88ceba7d18e3c36075631155c8ac7c66795829a7f42da2417e369d7fd3c"
  },
  "kernelspec": {
   "display_name": "Python 3.9.7 64-bit ('base': conda)",
   "language": "python",
   "name": "python3"
  },
  "language_info": {
   "codemirror_mode": {
    "name": "ipython",
    "version": 3
   },
   "file_extension": ".py",
   "mimetype": "text/x-python",
   "name": "python",
   "nbconvert_exporter": "python",
   "pygments_lexer": "ipython3",
   "version": "3.8.8"
  },
  "orig_nbformat": 4
 },
 "nbformat": 4,
 "nbformat_minor": 2
}
