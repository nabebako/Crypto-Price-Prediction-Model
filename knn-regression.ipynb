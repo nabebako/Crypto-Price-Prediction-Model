{
 "cells": [
  {
   "cell_type": "markdown",
   "metadata": {},
   "source": [
    "<h2>Knn Regression</h2>"
   ]
  },
  {
   "cell_type": "code",
   "execution_count": 213,
   "metadata": {},
   "outputs": [],
   "source": [
    "import numpy as np\n",
    "import pandas as pd\n",
    "import math as ma\n",
    "import matplotlib.pyplot as plt\n",
    "from IPython import get_ipython\n",
    "\n",
    "get_ipython().run_line_magic('matplotlib', 'inline')"
   ]
  },
  {
   "cell_type": "markdown",
   "metadata": {},
   "source": [
    "<h3>Define helper functions</h3>"
   ]
  },
  {
   "cell_type": "code",
   "execution_count": 214,
   "metadata": {},
   "outputs": [],
   "source": [
    "def get_csv(path: str) -> pd.DataFrame:\n",
    "    \n",
    "    return pd.read_csv(path, parse_dates = ['Date'])\\\n",
    "        .drop(columns = ['Currency', '24h Open (USD)'])\\\n",
    "        .rename(columns = {'Date': 'date', 'Closing Price (USD)': 'price', '24h High (USD)': 'high', '24h Low (USD)': 'low'})"
   ]
  },
  {
   "cell_type": "markdown",
   "metadata": {},
   "source": [
    "<h3>Import data</h3>"
   ]
  },
  {
   "cell_type": "code",
   "execution_count": 215,
   "metadata": {},
   "outputs": [],
   "source": [
    "df_ada = get_csv('./data/Cardano.csv')"
   ]
  },
  {
   "cell_type": "markdown",
   "metadata": {},
   "source": [
    "<h3>Problems with using knn with stock/crypto price</h3>\n",
    "<p>\n",
    "    Knn regression is useful when we want to predict some values of an object based on that object other values. However, when it comes to predicting the prices of tomorrow's cryptos, there's a problem: we don't know anything about the tomorrow's, so instead, we should infer the price of tomorrow's cryptos using today's data.\n",
    "</p>"
   ]
  },
  {
   "cell_type": "code",
   "execution_count": 216,
   "metadata": {},
   "outputs": [],
   "source": [
    "def transform_df(df: pd.DataFrame) -> pd.DataFrame:\n",
    "\n",
    "    transformed_df = pd.DataFrame(columns = ['date', 'price', 'previous price', 'previous high', 'previous low'])\n",
    "\n",
    "    for i in range(1, df.shape[0]):\n",
    "        transformed_df.loc[i - 1] = {'date': df.loc[i]['date'], 'price': df.loc[i]['price'], 'previous price': df.loc[i - 1]['price'], 'previous high': df.loc[i - 1]['high'], 'previous low': df.loc[i - 1]['low']}\n",
    "\n",
    "    return transformed_df"
   ]
  },
  {
   "cell_type": "code",
   "execution_count": 217,
   "metadata": {},
   "outputs": [],
   "source": [
    "df_ada = transform_df(get_csv('./data/Cardano.csv'))"
   ]
  },
  {
   "cell_type": "markdown",
   "metadata": {},
   "source": [
    "<h3>Knn Regression</h3>\n",
    "<p>\n",
    "    The function define below is an crude implementation of knn. It takes in a training dataset as df, prediction dataset as x, and k as the order of knn, which then returns the prediction dataset with prediction column. This implementation also weigh the distance for better results.\n",
    "</p>"
   ]
  },
  {
   "cell_type": "code",
   "execution_count": 218,
   "metadata": {},
   "outputs": [],
   "source": [
    "def knn(df: pd.DataFrame, x: pd.Series, k: int) -> pd.Series:\n",
    "\n",
    "    pred = pd.DataFrame(index = x.index, columns = ['pred'])\n",
    "    train = df.drop(columns = ['date'])\n",
    "    pred_x = x.drop(columns = ['date'])\n",
    "\n",
    "    for i in range(pred_x.shape[0]):\n",
    "        distance = np.sqrt(np.sum((train - pred_x.iloc[i]) ** 2, axis = 1)).sort_values()\n",
    "        weight_sum = sum(1 / distance.iloc[:k])\n",
    "        pred.iloc[i] = np.sum([train.loc[distance.index[n]]['price'] / distance.iloc[n] for n in range(k)]) / weight_sum\n",
    "        \n",
    "    return x.assign(prediction = pred['pred'])"
   ]
  },
  {
   "cell_type": "code",
   "execution_count": 219,
   "metadata": {},
   "outputs": [
    {
     "data": {
      "text/html": [
       "<div>\n",
       "<style scoped>\n",
       "    .dataframe tbody tr th:only-of-type {\n",
       "        vertical-align: middle;\n",
       "    }\n",
       "\n",
       "    .dataframe tbody tr th {\n",
       "        vertical-align: top;\n",
       "    }\n",
       "\n",
       "    .dataframe thead th {\n",
       "        text-align: right;\n",
       "    }\n",
       "</style>\n",
       "<table border=\"1\" class=\"dataframe\">\n",
       "  <thead>\n",
       "    <tr style=\"text-align: right;\">\n",
       "      <th></th>\n",
       "      <th>date</th>\n",
       "      <th>previous price</th>\n",
       "      <th>previous high</th>\n",
       "      <th>previous low</th>\n",
       "      <th>prediction</th>\n",
       "    </tr>\n",
       "  </thead>\n",
       "  <tbody>\n",
       "    <tr>\n",
       "      <th>193</th>\n",
       "      <td>2021-10-13</td>\n",
       "      <td>2.172090</td>\n",
       "      <td>2.249741</td>\n",
       "      <td>2.110711</td>\n",
       "      <td>2.184429</td>\n",
       "    </tr>\n",
       "    <tr>\n",
       "      <th>194</th>\n",
       "      <td>2021-10-14</td>\n",
       "      <td>2.117703</td>\n",
       "      <td>2.172186</td>\n",
       "      <td>2.072231</td>\n",
       "      <td>2.102739</td>\n",
       "    </tr>\n",
       "    <tr>\n",
       "      <th>195</th>\n",
       "      <td>2021-10-15</td>\n",
       "      <td>2.188204</td>\n",
       "      <td>2.198748</td>\n",
       "      <td>2.080997</td>\n",
       "      <td>2.19626</td>\n",
       "    </tr>\n",
       "    <tr>\n",
       "      <th>196</th>\n",
       "      <td>2021-10-16</td>\n",
       "      <td>2.173712</td>\n",
       "      <td>2.223790</td>\n",
       "      <td>2.157704</td>\n",
       "      <td>2.195264</td>\n",
       "    </tr>\n",
       "    <tr>\n",
       "      <th>197</th>\n",
       "      <td>2021-10-17</td>\n",
       "      <td>2.217599</td>\n",
       "      <td>2.241912</td>\n",
       "      <td>2.137200</td>\n",
       "      <td>2.225013</td>\n",
       "    </tr>\n",
       "    <tr>\n",
       "      <th>...</th>\n",
       "      <td>...</td>\n",
       "      <td>...</td>\n",
       "      <td>...</td>\n",
       "      <td>...</td>\n",
       "      <td>...</td>\n",
       "    </tr>\n",
       "    <tr>\n",
       "      <th>272</th>\n",
       "      <td>2021-12-31</td>\n",
       "      <td>1.331352</td>\n",
       "      <td>1.437200</td>\n",
       "      <td>1.323200</td>\n",
       "      <td>1.347456</td>\n",
       "    </tr>\n",
       "    <tr>\n",
       "      <th>273</th>\n",
       "      <td>2022-01-01</td>\n",
       "      <td>1.358500</td>\n",
       "      <td>1.378057</td>\n",
       "      <td>1.298746</td>\n",
       "      <td>1.338867</td>\n",
       "    </tr>\n",
       "    <tr>\n",
       "      <th>274</th>\n",
       "      <td>2022-01-02</td>\n",
       "      <td>1.308127</td>\n",
       "      <td>1.381830</td>\n",
       "      <td>1.281100</td>\n",
       "      <td>1.322832</td>\n",
       "    </tr>\n",
       "    <tr>\n",
       "      <th>275</th>\n",
       "      <td>2022-01-03</td>\n",
       "      <td>1.379002</td>\n",
       "      <td>1.379101</td>\n",
       "      <td>1.305360</td>\n",
       "      <td>1.344815</td>\n",
       "    </tr>\n",
       "    <tr>\n",
       "      <th>276</th>\n",
       "      <td>2022-01-04</td>\n",
       "      <td>1.378200</td>\n",
       "      <td>1.391050</td>\n",
       "      <td>1.342322</td>\n",
       "      <td>1.366357</td>\n",
       "    </tr>\n",
       "  </tbody>\n",
       "</table>\n",
       "<p>84 rows × 5 columns</p>\n",
       "</div>"
      ],
      "text/plain": [
       "          date  previous price  previous high  previous low prediction\n",
       "193 2021-10-13        2.172090       2.249741      2.110711   2.184429\n",
       "194 2021-10-14        2.117703       2.172186      2.072231   2.102739\n",
       "195 2021-10-15        2.188204       2.198748      2.080997    2.19626\n",
       "196 2021-10-16        2.173712       2.223790      2.157704   2.195264\n",
       "197 2021-10-17        2.217599       2.241912      2.137200   2.225013\n",
       "..         ...             ...            ...           ...        ...\n",
       "272 2021-12-31        1.331352       1.437200      1.323200   1.347456\n",
       "273 2022-01-01        1.358500       1.378057      1.298746   1.338867\n",
       "274 2022-01-02        1.308127       1.381830      1.281100   1.322832\n",
       "275 2022-01-03        1.379002       1.379101      1.305360   1.344815\n",
       "276 2022-01-04        1.378200       1.391050      1.342322   1.366357\n",
       "\n",
       "[84 rows x 5 columns]"
      ]
     },
     "execution_count": 219,
     "metadata": {},
     "output_type": "execute_result"
    }
   ],
   "source": [
    "pred = knn(df_ada[:ma.floor(df_ada.shape[0] * 0.7)], df_ada[ma.floor(df_ada.shape[0] * 0.7):].drop(columns = ['price']), 5)\n",
    "pred"
   ]
  }
 ],
 "metadata": {
  "interpreter": {
   "hash": "c9a0a88ceba7d18e3c36075631155c8ac7c66795829a7f42da2417e369d7fd3c"
  },
  "kernelspec": {
   "display_name": "Python 3.9.7 64-bit ('base': conda)",
   "language": "python",
   "name": "python3"
  },
  "language_info": {
   "codemirror_mode": {
    "name": "ipython",
    "version": 3
   },
   "file_extension": ".py",
   "mimetype": "text/x-python",
   "name": "python",
   "nbconvert_exporter": "python",
   "pygments_lexer": "ipython3",
   "version": "3.8.8"
  },
  "orig_nbformat": 4
 },
 "nbformat": 4,
 "nbformat_minor": 2
}
