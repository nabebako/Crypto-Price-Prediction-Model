{
 "cells": [
  {
   "cell_type": "markdown",
   "metadata": {},
   "source": [
    "<h2>Knn Regression</h2>"
   ]
  },
  {
   "cell_type": "code",
   "execution_count": 2,
   "metadata": {},
   "outputs": [],
   "source": [
    "import numpy as np\n",
    "import pandas as pd\n",
    "import math as ma\n",
    "import matplotlib.pyplot as plt"
   ]
  },
  {
   "cell_type": "markdown",
   "metadata": {},
   "source": [
    "<h3>Define helper functions</h3>"
   ]
  },
  {
   "cell_type": "code",
   "execution_count": 46,
   "metadata": {},
   "outputs": [],
   "source": [
    "def get_csv(path: str) -> pd.DataFrame:\n",
    "    \n",
    "    df = pd.read_csv(path, parse_dates = ['Date'])\\\n",
    "        .drop(columns = ['Currency', '24h Open (USD)'])\\\n",
    "        .rename(columns = {'Date': 'date', 'Closing Price (USD)': 'price', '24h High (USD)': 'high', '24h Low (USD)': 'low'})\n",
    "\n",
    "    return df\n",
    "\n",
    "\n",
    "def rolling_forecast(df: pd.DataFrame, test_ratio: float = 0.3) -> pd.DataFrame:\n",
    "\n",
    "    prediction_roll = pd.Series(dtype = 'float64')\n",
    "    test_data = df[ma.floor(len(df.index) * (1 - test_ratio)) + 1:]\n",
    "\n",
    "    for end_date in test_data.index:\n",
    "        train_data = df[:end_date - 1]\n",
    "        # TODO: define knn-regression model\n",
    "        pred = pd.mean(train_data)\n",
    "        prediction_roll.loc[end_date] = pred\n",
    "\n",
    "    return pd.DataFrame({'pred': prediction_roll, 'real': test_data['price']})"
   ]
  },
  {
   "cell_type": "markdown",
   "metadata": {},
   "source": [
    "<h3>Import data</h3>"
   ]
  },
  {
   "cell_type": "code",
   "execution_count": 47,
   "metadata": {},
   "outputs": [],
   "source": [
    "df_ada = get_csv('./data/Cardano.csv')\n",
    "df_eth = get_csv('./data/ethereum.csv')\n",
    "df_sol = get_csv('./data/solana.csv')\n",
    "df_doge = get_csv('./data/dogecoin.csv')"
   ]
  },
  {
   "cell_type": "markdown",
   "metadata": {},
   "source": [
    "<h3>Problems with using knn</h3>\n",
    "<p>\n",
    "    Knn regression is useful when we want to predict some values of an object based on that object other values. However, when it comes to predicting the prices of tomorrow's cryptos, there's a problem: we don't know anything about the tomorrow's, so instead, we should infer the price of tomorrow's cryptos using today's data.\n",
    "</p>"
   ]
  },
  {
   "cell_type": "code",
   "execution_count": 48,
   "metadata": {},
   "outputs": [],
   "source": [
    "def transform_df(df: pd.DataFrame) -> pd.DataFrame:\n",
    "\n",
    "    transformed_df = pd.DataFrame(columns = ['date', 'price', 'previous price', 'previous high', 'previous low'])\n",
    "\n",
    "    for i in range(1, df.shape[0]):\n",
    "        transformed_df.loc[i] = {'date': df.loc[i]['date'], 'price': df.loc[i]['price'], 'previous price': df.loc[i - 1]['price'], 'previous high': df.loc[i - 1]['high'], 'previous low': df.loc[i - 1]['low']}\n",
    "\n",
    "    return transformed_df"
   ]
  }
 ],
 "metadata": {
  "interpreter": {
   "hash": "c9a0a88ceba7d18e3c36075631155c8ac7c66795829a7f42da2417e369d7fd3c"
  },
  "kernelspec": {
   "display_name": "Python 3.9.7 64-bit ('base': conda)",
   "language": "python",
   "name": "python3"
  },
  "language_info": {
   "codemirror_mode": {
    "name": "ipython",
    "version": 3
   },
   "file_extension": ".py",
   "mimetype": "text/x-python",
   "name": "python",
   "nbconvert_exporter": "python",
   "pygments_lexer": "ipython3",
   "version": "3.8.8"
  },
  "orig_nbformat": 4
 },
 "nbformat": 4,
 "nbformat_minor": 2
}
