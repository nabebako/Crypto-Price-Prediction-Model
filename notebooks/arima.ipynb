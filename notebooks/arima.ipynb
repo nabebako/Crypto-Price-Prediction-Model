{
 "cells": [
  {
   "cell_type": "code",
   "execution_count": 1,
   "metadata": {},
   "outputs": [],
   "source": [
    "import numpy as np\n",
    "import pandas as pd\n",
    "import matplotlib.pyplot as plt\n",
    "import seaborn as sb\n",
    "import re\n",
    "import math as ma\n",
    "\n",
    "from statsmodels.tsa.arima_model import ARIMA\n",
    "from statsmodels.tsa.stattools import adfuller\n",
    "\n",
    "from pandas_profiling import ProfileReport\n",
    "from numpy import log"
   ]
  },
  {
   "cell_type": "code",
   "execution_count": 2,
   "metadata": {},
   "outputs": [],
   "source": [
    "def days_prior(df: pd.DataFrame, days: int, time_frame: int = 0) -> pd.DataFrame:\n",
    "\n",
    "    epoch = len(df.index) - ma.floor(days)\n",
    "\n",
    "    if time_frame == 0.0:\n",
    "\n",
    "        return df[(df.index >= epoch)]\n",
    "\n",
    "    else:\n",
    "        \n",
    "        end = epoch + ma.floor(time_frame)\n",
    "\n",
    "        return df[(df.index >= epoch) & (df.index < end)]\n",
    "        \n",
    "\n",
    "def differencing(df: pd.DataFrame, columns: list, duration: int) -> pd.DataFrame:\n",
    "    '''\n",
    "    duration in days\n",
    "    columns name where the first column name provided will be subtracted by the second column\n",
    "    '''\n",
    "    \n",
    "    new_df = days_prior(df, duration)\n",
    "    deviation_data = [new_df[columns[0]][i] - new_df[columns[1]][i] for i in new_df.index]\n",
    "\n",
    "    return pd.DataFrame({'Date': new_df['Date'], 'Deviation': deviation_data})"
   ]
  },
  {
   "cell_type": "code",
   "execution_count": 3,
   "metadata": {},
   "outputs": [
    {
     "data": {
      "text/html": [
       "<div>\n",
       "<style scoped>\n",
       "    .dataframe tbody tr th:only-of-type {\n",
       "        vertical-align: middle;\n",
       "    }\n",
       "\n",
       "    .dataframe tbody tr th {\n",
       "        vertical-align: top;\n",
       "    }\n",
       "\n",
       "    .dataframe thead th {\n",
       "        text-align: right;\n",
       "    }\n",
       "</style>\n",
       "<table border=\"1\" class=\"dataframe\">\n",
       "  <thead>\n",
       "    <tr style=\"text-align: right;\">\n",
       "      <th></th>\n",
       "      <th>price</th>\n",
       "    </tr>\n",
       "    <tr>\n",
       "      <th>date</th>\n",
       "      <th></th>\n",
       "    </tr>\n",
       "  </thead>\n",
       "  <tbody>\n",
       "    <tr>\n",
       "      <th>2016-12-17</th>\n",
       "      <td>7.819352</td>\n",
       "    </tr>\n",
       "    <tr>\n",
       "      <th>2016-12-18</th>\n",
       "      <td>7.865732</td>\n",
       "    </tr>\n",
       "    <tr>\n",
       "      <th>2016-12-19</th>\n",
       "      <td>7.860455</td>\n",
       "    </tr>\n",
       "    <tr>\n",
       "      <th>2016-12-20</th>\n",
       "      <td>7.618576</td>\n",
       "    </tr>\n",
       "    <tr>\n",
       "      <th>2016-12-21</th>\n",
       "      <td>7.640694</td>\n",
       "    </tr>\n",
       "    <tr>\n",
       "      <th>...</th>\n",
       "      <td>...</td>\n",
       "    </tr>\n",
       "    <tr>\n",
       "      <th>2021-12-31</th>\n",
       "      <td>3710.231568</td>\n",
       "    </tr>\n",
       "    <tr>\n",
       "      <th>2022-01-01</th>\n",
       "      <td>3676.966786</td>\n",
       "    </tr>\n",
       "    <tr>\n",
       "      <th>2022-01-02</th>\n",
       "      <td>3766.822444</td>\n",
       "    </tr>\n",
       "    <tr>\n",
       "      <th>2022-01-03</th>\n",
       "      <td>3831.536416</td>\n",
       "    </tr>\n",
       "    <tr>\n",
       "      <th>2022-01-04</th>\n",
       "      <td>3763.940000</td>\n",
       "    </tr>\n",
       "  </tbody>\n",
       "</table>\n",
       "<p>1845 rows × 1 columns</p>\n",
       "</div>"
      ],
      "text/plain": [
       "                  price\n",
       "date                   \n",
       "2016-12-17     7.819352\n",
       "2016-12-18     7.865732\n",
       "2016-12-19     7.860455\n",
       "2016-12-20     7.618576\n",
       "2016-12-21     7.640694\n",
       "...                 ...\n",
       "2021-12-31  3710.231568\n",
       "2022-01-01  3676.966786\n",
       "2022-01-02  3766.822444\n",
       "2022-01-03  3831.536416\n",
       "2022-01-04  3763.940000\n",
       "\n",
       "[1845 rows x 1 columns]"
      ]
     },
     "execution_count": 3,
     "metadata": {},
     "output_type": "execute_result"
    }
   ],
   "source": [
    "df_ether = pd\\\n",
    "    .read_csv('../data/Ethereum.csv')\\\n",
    "    .drop(columns = ['Currency', '24h Open (USD)', '24h High (USD)', '24h Low (USD)'])\\\n",
    "    .rename(columns = {'Date': 'date', 'Closing Price (USD)': 'price'})\\\n",
    "    .set_index('date')\n",
    "    \n",
    "df_ether"
   ]
  },
  {
   "cell_type": "code",
   "execution_count": 4,
   "metadata": {},
   "outputs": [
    {
     "name": "stdout",
     "output_type": "stream",
     "text": [
      "ADF Statistic: 0.365150\n",
      "p-value: 0.980144\n"
     ]
    }
   ],
   "source": [
    "# Augmented Dickey Fuller Test (ADF Test)\n",
    "result = adfuller(df_ether)\n",
    "print('ADF Statistic: %f' % result[0])\n",
    "print('p-value: %f' % result[1])"
   ]
  }
 ],
 "metadata": {
  "interpreter": {
   "hash": "9a5e0c262a40e32282608cd7157ba5a3654fc258710cb5f4a7ad31436033fa4c"
  },
  "kernelspec": {
   "display_name": "Python 3.8.8 64-bit ('base': conda)",
   "language": "python",
   "name": "python3"
  },
  "language_info": {
   "codemirror_mode": {
    "name": "ipython",
    "version": 3
   },
   "file_extension": ".py",
   "mimetype": "text/x-python",
   "name": "python",
   "nbconvert_exporter": "python",
   "pygments_lexer": "ipython3",
   "version": "3.8.8"
  },
  "orig_nbformat": 4
 },
 "nbformat": 4,
 "nbformat_minor": 2
}
