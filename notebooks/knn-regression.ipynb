{
 "cells": [
  {
   "cell_type": "code",
   "execution_count": null,
   "metadata": {},
   "outputs": [],
   "source": [
    "import numpy as np\n",
    "import pandas as pd\n",
    "import matplotlib.pyplot as plt\n",
    "import seaborn as sb\n",
    "import re\n",
    "import math as ma"
   ]
  },
  {
   "cell_type": "code",
   "execution_count": 1,
   "metadata": {},
   "outputs": [
    {
     "data": {
      "text/html": [
       "<div>\n",
       "<style scoped>\n",
       "    .dataframe tbody tr th:only-of-type {\n",
       "        vertical-align: middle;\n",
       "    }\n",
       "\n",
       "    .dataframe tbody tr th {\n",
       "        vertical-align: top;\n",
       "    }\n",
       "\n",
       "    .dataframe thead th {\n",
       "        text-align: right;\n",
       "    }\n",
       "</style>\n",
       "<table border=\"1\" class=\"dataframe\">\n",
       "  <thead>\n",
       "    <tr style=\"text-align: right;\">\n",
       "      <th></th>\n",
       "      <th>Currency</th>\n",
       "      <th>Date</th>\n",
       "      <th>Closing Price (USD)</th>\n",
       "      <th>24h Open (USD)</th>\n",
       "      <th>24h High (USD)</th>\n",
       "      <th>24h Low (USD)</th>\n",
       "    </tr>\n",
       "  </thead>\n",
       "  <tbody>\n",
       "    <tr>\n",
       "      <th>0</th>\n",
       "      <td>ADA</td>\n",
       "      <td>2021-04-02</td>\n",
       "      <td>1.183859</td>\n",
       "      <td>1.188217</td>\n",
       "      <td>1.199795</td>\n",
       "      <td>1.172410</td>\n",
       "    </tr>\n",
       "    <tr>\n",
       "      <th>1</th>\n",
       "      <td>ADA</td>\n",
       "      <td>2021-04-03</td>\n",
       "      <td>1.190702</td>\n",
       "      <td>1.183859</td>\n",
       "      <td>1.243297</td>\n",
       "      <td>1.181267</td>\n",
       "    </tr>\n",
       "    <tr>\n",
       "      <th>2</th>\n",
       "      <td>ADA</td>\n",
       "      <td>2021-04-04</td>\n",
       "      <td>1.163845</td>\n",
       "      <td>1.190735</td>\n",
       "      <td>1.239910</td>\n",
       "      <td>1.160860</td>\n",
       "    </tr>\n",
       "    <tr>\n",
       "      <th>3</th>\n",
       "      <td>ADA</td>\n",
       "      <td>2021-04-05</td>\n",
       "      <td>1.181918</td>\n",
       "      <td>1.163845</td>\n",
       "      <td>1.193175</td>\n",
       "      <td>1.153233</td>\n",
       "    </tr>\n",
       "    <tr>\n",
       "      <th>4</th>\n",
       "      <td>ADA</td>\n",
       "      <td>2021-04-06</td>\n",
       "      <td>1.211882</td>\n",
       "      <td>1.181918</td>\n",
       "      <td>1.225536</td>\n",
       "      <td>1.163506</td>\n",
       "    </tr>\n",
       "  </tbody>\n",
       "</table>\n",
       "</div>"
      ],
      "text/plain": [
       "  Currency        Date  Closing Price (USD)  24h Open (USD)  24h High (USD)  \\\n",
       "0      ADA  2021-04-02             1.183859        1.188217        1.199795   \n",
       "1      ADA  2021-04-03             1.190702        1.183859        1.243297   \n",
       "2      ADA  2021-04-04             1.163845        1.190735        1.239910   \n",
       "3      ADA  2021-04-05             1.181918        1.163845        1.193175   \n",
       "4      ADA  2021-04-06             1.211882        1.181918        1.225536   \n",
       "\n",
       "   24h Low (USD)  \n",
       "0       1.172410  \n",
       "1       1.181267  \n",
       "2       1.160860  \n",
       "3       1.153233  \n",
       "4       1.163506  "
      ]
     },
     "execution_count": 1,
     "metadata": {},
     "output_type": "execute_result"
    }
   ],
   "source": [
    "import pandas as pd\n",
    "\n",
    "df=pd.read_csv(\"../data/Cardano.csv\")\n",
    "df.head()"
   ]
  }
 ],
 "metadata": {
  "interpreter": {
   "hash": "c9a0a88ceba7d18e3c36075631155c8ac7c66795829a7f42da2417e369d7fd3c"
  },
  "kernelspec": {
   "display_name": "Python 3.9.7 64-bit ('base': conda)",
   "language": "python",
   "name": "python3"
  },
  "language_info": {
   "codemirror_mode": {
    "name": "ipython",
    "version": 3
   },
   "file_extension": ".py",
   "mimetype": "text/x-python",
   "name": "python",
   "nbconvert_exporter": "python",
   "pygments_lexer": "ipython3",
   "version": "3.9.7"
  },
  "orig_nbformat": 4
 },
 "nbformat": 4,
 "nbformat_minor": 2
}
