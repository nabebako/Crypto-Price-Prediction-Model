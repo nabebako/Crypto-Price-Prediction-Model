{
 "cells": [
  {
   "cell_type": "markdown",
   "metadata": {},
   "source": [
    "<h1>Polynomial Regression Model</h1>\n",
    "<p>Models generated using Sklearn. Datasets gathered from <a href = \"https://www.coindesk.com/\">CoinDesk<a></p>"
   ]
  },
  {
   "cell_type": "code",
   "execution_count": null,
   "metadata": {},
   "outputs": [],
   "source": [
    "import numpy as np\n",
    "import pandas as pd\n",
    "import matplotlib.pyplot as plt\n",
    "import seaborn as sb\n",
    "from pandas_profiling import ProfileReport\n",
    "import math as ma\n",
    "\n",
    "from sklearn.linear_model import LinearRegression\n",
    "from sklearn.metrics import mean_squared_error, r2_score\n",
    "from sklearn.preprocessing import PolynomialFeatures\n",
    "\n",
    "import operator\n",
    "\n",
    "get_ipython().run_line_magic('matplotlib', 'inline')\n",
    "\n",
    "# ['#f39506', '#115268', '#FDB6BA', '#BC8E8E', '#4682B4', '#8486BF']"
   ]
  },
  {
   "cell_type": "code",
   "execution_count": null,
   "metadata": {},
   "outputs": [],
   "source": [
    "def days_prior(df: pd.DataFrame, days: int, time_frame: int = 0) -> pd.DataFrame:\n",
    "\n",
    "    epoch = len(df.index) - ma.floor(days)\n",
    "\n",
    "    if time_frame == 0.0:\n",
    "\n",
    "        return df[(df.index >= epoch)]\n",
    "\n",
    "    else:\n",
    "        \n",
    "        end = epoch + ma.floor(time_frame)\n",
    "\n",
    "        return df[(df.index >= epoch) & (df.index < end)]\n",
    "\n",
    "    \n",
    "def train_test_split_by_date(df: pd.DataFrame, x: str, y: str, reverse_epoch: int, time_interval: int = None):\n",
    "    \n",
    "    '''\n",
    "        returns a list of x_train, y_train, x_test, y_test, x_full, y_full in order\n",
    "    '''\n",
    "\n",
    "    if(time_interval == None or time_interval == 0.0):\n",
    "        \n",
    "        time_interval = reverse_epoch - 1\n",
    "\n",
    "    df_full  = days_prior(df, reverse_epoch, time_interval + 1)\n",
    "    df_train = days_prior(df, reverse_epoch, time_interval)\n",
    "    df_test  = days_prior(df, reverse_epoch - time_interval, 1)\n",
    "\n",
    "    if x == 'index':\n",
    "        x_full  = df_full.index.to_numpy()\n",
    "        y_full  = df_full[y].to_numpy()\n",
    "        x_train = df_train.index.to_numpy()\n",
    "        x_test  = df_test.index.to_numpy()\n",
    "        y_train = df_train[y].to_numpy()\n",
    "        y_test  = df_test[y].to_numpy()\n",
    "\n",
    "    else:\n",
    "        x_full  = df_full[x].to_numpy()\n",
    "        y_full  = df_full[y].to_numpy()\n",
    "        x_train = df_train[x].to_numpy()\n",
    "        x_test  = df_test[x].to_numpy()\n",
    "        y_train = df_train[y].to_numpy()\n",
    "        y_test  = df_test[y].to_numpy()\n",
    "\n",
    "    return [x_train, y_train, x_test, y_test, x_full, y_full]\n",
    "\n",
    "\n",
    "def polynomial_regression_model_predict(df: pd.DataFrame, degree: int, epoch: int, period: float = None, name: str = 'df', color: list = ['#1f77b4', '#ff7f0e', '#2ca02c', '#d62728', '#9467bd', '#8c564b']) -> float:\n",
    "\n",
    "    x_train, y_train, x_test, y_test, x_full, y_full = train_test_split_by_date(df, 'index', 'Closing Price (USD)', epoch, period)\n",
    "\n",
    "    polynomial_features = PolynomialFeatures(degree = degree)\n",
    "    x_poly_train = polynomial_features.fit_transform(x_train[:, None])\n",
    "\n",
    "    model = LinearRegression()\n",
    "    model.fit(x_poly_train, y_train)\n",
    "\n",
    "    y_pred_test = model.predict(polynomial_features.fit_transform(x_test[:, None]))\n",
    "    y_pred_full = model.predict(polynomial_features.fit_transform(x_full[:, None]))\n",
    "\n",
    "    plt.figure(figsize = (30,10))\n",
    "    plt.title(name)\n",
    "    plt.grid(False)\n",
    "\n",
    "    \n",
    "    plt.scatter(df['Date'][ x_test[0] : x_test[-1] + 1], y_test, label = 'Tested value', color = color[0])\n",
    "    plt.scatter(df['Date'][ x_test[0] : x_test[-1] + 1], y_pred_test, label = 'Predicted value', color = color[1])\n",
    "\n",
    "    plt.plot(df['Date'][ x_full[0] : x_full[-1] + 1], y_full, label = 'Full data', color = color[2])\n",
    "    plt.plot(df['Date'][ x_train[0] : x_train[-1] + 1], y_train, label = 'Train data', color = color[3])\n",
    "\n",
    "    sorted_zip = sorted(zip(x_full, y_pred_full), key = operator.itemgetter(0))\n",
    "    x_full, y_pred_full = zip(*sorted_zip)\n",
    "\n",
    "    plt.plot(df['Date'][ x_full[0] : x_full[-1] + 1], y_pred_full, label = 'Prediction curve', color = color[4])\n",
    "\n",
    "    plt.legend(loc = 'best')\n",
    "    plt.show()\n",
    "\n",
    "    return {'accuracy': abs(y_pred_test - y_test), 'rmse': np.sqrt(mean_squared_error(y_full, y_pred_full)), 'r2': r2_score(y_full, y_pred_full)}\n",
    "\n",
    "\n",
    "def deviation(df: pd.DataFrame, columns: list, duration: int) -> pd.DataFrame:\n",
    "    '''\n",
    "    duration in days\n",
    "    columns name where the first column name provided will be subtracted by the second column\n",
    "    '''\n",
    "    \n",
    "    new_df = days_prior(df, duration)\n",
    "    deviation_data = [new_df[columns[0]][i] - new_df[columns[1]][i] for i in new_df.index]\n",
    "\n",
    "    return pd.DataFrame({'Date': new_df['Date'], 'Deviation': deviation_data})\n",
    "\n"
   ]
  },
  {
   "cell_type": "code",
   "execution_count": null,
   "metadata": {},
   "outputs": [],
   "source": [
    "df_cardano  = pd.read_csv('../data/Cardano.csv',    parse_dates = ['Date']).drop(columns = ['Currency'])\n",
    "df_ethereum = pd.read_csv('../data/Ethereum.csv',   parse_dates = ['Date']).drop(columns = ['Currency'])\n",
    "df_solana   = pd.read_csv('../data/Solana.csv',     parse_dates = ['Date']).drop(columns = ['Currency'])\n",
    "df_dogecoin = pd.read_csv('../data/Dogecoin.csv',   parse_dates = ['Date']).drop(columns = ['Currency'])"
   ]
  },
  {
   "cell_type": "markdown",
   "metadata": {},
   "source": [
    "<h2> Polynomial Regression Method Accuracy Test </h2>\n",
    "\n",
    "<p>\n",
    "    Accuracy will be tested using four datasets: ETH, ADA, DOGE, and SOL. <br/>\n",
    "    Accuracy will be measured by calculating the average prediction error of every model created using cryptocurrecny datasets.\n",
    "</p>\n",
    "<p>Testing Categroy:</p>\n",
    "<ul>\n",
    "    <li>Long-term accuracy — accuracy of prediction <i>3 weeks</i> into the future.</li>\n",
    "    <li>Medium-term accuracy — accuracy of prediction <i>1 week into</i> the future.</li>\n",
    "    <li>Short-term accuracy — accuracy of prediction <i>2 days into</i> the future.</li>\n",
    "</ul>\n"
   ]
  },
  {
   "cell_type": "code",
   "execution_count": null,
   "metadata": {},
   "outputs": [],
   "source": [
    "# Tesing\n",
    "\n"
   ]
  },
  {
   "cell_type": "code",
   "execution_count": null,
   "metadata": {},
   "outputs": [],
   "source": [
    "df_deviation = deviation(df_cardano, ['Closing Price (USD)', '24h Open (USD)'], 90)\n",
    "plt.figure(figsize = (30,10))\n",
    "plt.title('deviation')\n",
    "plt.grid(False)\n",
    "plt.plot(df_deviation['Date'], df_deviation['Deviation'])"
   ]
  },
  {
   "cell_type": "code",
   "execution_count": null,
   "metadata": {},
   "outputs": [],
   "source": [
    "print(polynomial_regression_model_predict(df_ethereum, 6, 120, name = 'Ether'))\n",
    "print(polynomial_regression_model_predict(df_ethereum, 6, 90 , name = 'Ether'))\n",
    "print(polynomial_regression_model_predict(df_ethereum, 6, 60 , name = 'Ether'))\n",
    "print(polynomial_regression_model_predict(df_ethereum, 6, 30 , name = 'Ether'))\n",
    "print(polynomial_regression_model_predict(df_ethereum, 6, 14 , name = 'Ether'))\n",
    "print(polynomial_regression_model_predict(df_ethereum, 6, 7  , name = 'Ether'))"
   ]
  },
  {
   "cell_type": "code",
   "execution_count": null,
   "metadata": {},
   "outputs": [],
   "source": [
    "print(polynomial_regression_model_predict(df_cardano, 6, 120, name = 'Cardano'))\n",
    "print(polynomial_regression_model_predict(df_cardano, 6, 90 , name = 'Cardano'))\n",
    "print(polynomial_regression_model_predict(df_cardano, 6, 60 , name = 'Cardano'))\n",
    "print(polynomial_regression_model_predict(df_cardano, 6, 30 , name = 'Cardano'))\n",
    "print(polynomial_regression_model_predict(df_cardano, 6, 14 , name = 'Cardano'))\n",
    "print(polynomial_regression_model_predict(df_cardano, 6, 7  , name = 'Cardano'))"
   ]
  },
  {
   "cell_type": "code",
   "execution_count": null,
   "metadata": {},
   "outputs": [],
   "source": [
    "print(polynomial_regression_model_predict(df_solana, 6, 60 , name = 'Solana'))\n",
    "print(polynomial_regression_model_predict(df_solana, 6, 30 , name = 'Solana'))\n",
    "print(polynomial_regression_model_predict(df_solana, 6, 14 , name = 'Solana'))\n",
    "print(polynomial_regression_model_predict(df_solana, 4, 7  , name = 'Solana'))"
   ]
  }
 ],
 "metadata": {
  "interpreter": {
   "hash": "9a5e0c262a40e32282608cd7157ba5a3654fc258710cb5f4a7ad31436033fa4c"
  },
  "kernelspec": {
   "display_name": "Python 3.8.8 64-bit ('base': conda)",
   "language": "python",
   "name": "python3"
  },
  "language_info": {
   "codemirror_mode": {
    "name": "ipython",
    "version": 3
   },
   "file_extension": ".py",
   "mimetype": "text/x-python",
   "name": "python",
   "nbconvert_exporter": "python",
   "pygments_lexer": "ipython3",
   "version": "3.8.8"
  },
  "orig_nbformat": 4
 },
 "nbformat": 4,
 "nbformat_minor": 2
}
